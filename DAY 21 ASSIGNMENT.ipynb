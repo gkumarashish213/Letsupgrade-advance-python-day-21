{
 "cells": [
  {
   "cell_type": "markdown",
   "metadata": {},
   "source": [
    "# How to make object as callable video __call__\n",
    "from collections import Counter\n",
    "\n",
    "class MyCounter(Counter):\n",
    "\n",
    "Add here required code so that we can give data to object like co1(\"intel\")\n",
    "\n",
    "co1 = MyCounter()\n",
    "\n",
    "co1(\"intel\")"
   ]
  },
  {
   "cell_type": "code",
   "execution_count": 3,
   "metadata": {},
   "outputs": [
    {
     "name": "stdout",
     "output_type": "stream",
     "text": [
      "Instance Created\n",
      "200\n"
     ]
    }
   ],
   "source": [
    "class Product: \n",
    "\n",
    "    def __init__(self): \n",
    "\n",
    "        print(\"Instance Created\") \n",
    "\n",
    "  \n",
    "\n",
    "    # Defining __call__ method \n",
    "\n",
    "    def __call__(self, a, b): \n",
    "\n",
    "        print(a * b) \n",
    "\n",
    "  \n",
    "# Instance created \n",
    "\n",
    "ans = Product() \n",
    "\n",
    "  \n",
    "# __call__ method will be called \n",
    "\n",
    "ans(10, 20) "
   ]
  },
  {
   "cell_type": "code",
   "execution_count": null,
   "metadata": {},
   "outputs": [],
   "source": []
  }
 ],
 "metadata": {
  "kernelspec": {
   "display_name": "Python 3",
   "language": "python",
   "name": "python3"
  },
  "language_info": {
   "codemirror_mode": {
    "name": "ipython",
    "version": 3
   },
   "file_extension": ".py",
   "mimetype": "text/x-python",
   "name": "python",
   "nbconvert_exporter": "python",
   "pygments_lexer": "ipython3",
   "version": "3.7.4"
  }
 },
 "nbformat": 4,
 "nbformat_minor": 2
}
